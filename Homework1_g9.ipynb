{
 "cells": [
  {
   "cell_type": "markdown",
   "metadata": {},
   "source": [
    "## Assignment 1: Dividend initiations, Stock Splits and stock returns"
   ]
  },
  {
   "cell_type": "markdown",
   "metadata": {},
   "source": [
    "When firms initiate new dividends or split their shares their stock prices \n",
    "generally increase.\n",
    "- How do these announcements affect returns and the risks of these \n",
    "stocks going forward?"
   ]
  },
  {
   "cell_type": "markdown",
   "metadata": {},
   "source": [
    "## Importing Libraries & Data"
   ]
  },
  {
   "cell_type": "code",
   "execution_count": 1,
   "metadata": {},
   "outputs": [],
   "source": [
    "import pandas as pd\n",
    "import numpy as np\n",
    "import matplotlib.pyplot as plt\n",
    "import statsmodels.api as sm \n",
    "from datetime import date, timedelta"
   ]
  },
  {
   "cell_type": "code",
   "execution_count": 2,
   "metadata": {},
   "outputs": [],
   "source": [
    "raw_data = pd.read_csv(r\"C:\\Users\\pc\\Desktop\\hw1\\CRSP_Updated_Clean_2019.csv\") "
   ]
  },
  {
   "cell_type": "code",
   "execution_count": 3,
   "metadata": {},
   "outputs": [
    {
     "name": "stdout",
     "output_type": "stream",
     "text": [
      "<class 'pandas.core.frame.DataFrame'>\n",
      "RangeIndex: 2034850 entries, 0 to 2034849\n",
      "Data columns (total 15 columns):\n",
      "date                 object\n",
      "stock_id             int64\n",
      "ticker               object\n",
      "shrout_adj_factor    float64\n",
      "price                float64\n",
      "return_incl_divs     float64\n",
      "shrout               float64\n",
      "return_ex_divs       float64\n",
      "mktrf                float64\n",
      "smb                  float64\n",
      "hml                  float64\n",
      "rf                   float64\n",
      "mom                  float64\n",
      "split_dummy          int64\n",
      "div_init_dummy       int64\n",
      "dtypes: float64(10), int64(3), object(2)\n",
      "memory usage: 232.9+ MB\n"
     ]
    }
   ],
   "source": [
    "raw_data.info()"
   ]
  },
  {
   "cell_type": "code",
   "execution_count": 4,
   "metadata": {},
   "outputs": [
    {
     "data": {
      "text/html": [
       "<div>\n",
       "<style scoped>\n",
       "    .dataframe tbody tr th:only-of-type {\n",
       "        vertical-align: middle;\n",
       "    }\n",
       "\n",
       "    .dataframe tbody tr th {\n",
       "        vertical-align: top;\n",
       "    }\n",
       "\n",
       "    .dataframe thead th {\n",
       "        text-align: right;\n",
       "    }\n",
       "</style>\n",
       "<table border=\"1\" class=\"dataframe\">\n",
       "  <thead>\n",
       "    <tr style=\"text-align: right;\">\n",
       "      <th></th>\n",
       "      <th>date</th>\n",
       "      <th>stock_id</th>\n",
       "      <th>ticker</th>\n",
       "      <th>shrout_adj_factor</th>\n",
       "      <th>price</th>\n",
       "      <th>return_incl_divs</th>\n",
       "      <th>shrout</th>\n",
       "      <th>return_ex_divs</th>\n",
       "      <th>mktrf</th>\n",
       "      <th>smb</th>\n",
       "      <th>hml</th>\n",
       "      <th>rf</th>\n",
       "      <th>mom</th>\n",
       "      <th>split_dummy</th>\n",
       "      <th>div_init_dummy</th>\n",
       "    </tr>\n",
       "  </thead>\n",
       "  <tbody>\n",
       "    <tr>\n",
       "      <th>0</th>\n",
       "      <td>30jan1987</td>\n",
       "      <td>10000</td>\n",
       "      <td>OMFGA</td>\n",
       "      <td>NaN</td>\n",
       "      <td>0.406250</td>\n",
       "      <td>-0.212121</td>\n",
       "      <td>3893.0</td>\n",
       "      <td>-0.212121</td>\n",
       "      <td>0.1247</td>\n",
       "      <td>-0.0181</td>\n",
       "      <td>-0.0318</td>\n",
       "      <td>0.0042</td>\n",
       "      <td>0.0210</td>\n",
       "      <td>0</td>\n",
       "      <td>0</td>\n",
       "    </tr>\n",
       "    <tr>\n",
       "      <th>1</th>\n",
       "      <td>27feb1987</td>\n",
       "      <td>10000</td>\n",
       "      <td>OMFGA</td>\n",
       "      <td>NaN</td>\n",
       "      <td>0.406250</td>\n",
       "      <td>0.000000</td>\n",
       "      <td>3893.0</td>\n",
       "      <td>0.000000</td>\n",
       "      <td>0.0439</td>\n",
       "      <td>0.0349</td>\n",
       "      <td>-0.0599</td>\n",
       "      <td>0.0043</td>\n",
       "      <td>-0.0217</td>\n",
       "      <td>0</td>\n",
       "      <td>0</td>\n",
       "    </tr>\n",
       "    <tr>\n",
       "      <th>2</th>\n",
       "      <td>31mar1987</td>\n",
       "      <td>10000</td>\n",
       "      <td>OMFGA</td>\n",
       "      <td>NaN</td>\n",
       "      <td>0.250000</td>\n",
       "      <td>-0.384615</td>\n",
       "      <td>3893.0</td>\n",
       "      <td>-0.384615</td>\n",
       "      <td>0.0164</td>\n",
       "      <td>0.0037</td>\n",
       "      <td>0.0166</td>\n",
       "      <td>0.0047</td>\n",
       "      <td>0.0160</td>\n",
       "      <td>0</td>\n",
       "      <td>0</td>\n",
       "    </tr>\n",
       "    <tr>\n",
       "      <th>3</th>\n",
       "      <td>30apr1987</td>\n",
       "      <td>10000</td>\n",
       "      <td>OMFGA</td>\n",
       "      <td>NaN</td>\n",
       "      <td>0.234375</td>\n",
       "      <td>-0.062500</td>\n",
       "      <td>3893.0</td>\n",
       "      <td>-0.062500</td>\n",
       "      <td>-0.0211</td>\n",
       "      <td>-0.0169</td>\n",
       "      <td>-0.0033</td>\n",
       "      <td>0.0044</td>\n",
       "      <td>0.0026</td>\n",
       "      <td>0</td>\n",
       "      <td>0</td>\n",
       "    </tr>\n",
       "    <tr>\n",
       "      <th>4</th>\n",
       "      <td>29may1987</td>\n",
       "      <td>10000</td>\n",
       "      <td>OMFGA</td>\n",
       "      <td>NaN</td>\n",
       "      <td>0.218750</td>\n",
       "      <td>-0.066667</td>\n",
       "      <td>3893.0</td>\n",
       "      <td>-0.066667</td>\n",
       "      <td>0.0011</td>\n",
       "      <td>-0.0053</td>\n",
       "      <td>0.0013</td>\n",
       "      <td>0.0038</td>\n",
       "      <td>-0.0068</td>\n",
       "      <td>0</td>\n",
       "      <td>0</td>\n",
       "    </tr>\n",
       "  </tbody>\n",
       "</table>\n",
       "</div>"
      ],
      "text/plain": [
       "        date  stock_id ticker  shrout_adj_factor     price  return_incl_divs  \\\n",
       "0  30jan1987     10000  OMFGA                NaN  0.406250         -0.212121   \n",
       "1  27feb1987     10000  OMFGA                NaN  0.406250          0.000000   \n",
       "2  31mar1987     10000  OMFGA                NaN  0.250000         -0.384615   \n",
       "3  30apr1987     10000  OMFGA                NaN  0.234375         -0.062500   \n",
       "4  29may1987     10000  OMFGA                NaN  0.218750         -0.066667   \n",
       "\n",
       "   shrout  return_ex_divs   mktrf     smb     hml      rf     mom  \\\n",
       "0  3893.0       -0.212121  0.1247 -0.0181 -0.0318  0.0042  0.0210   \n",
       "1  3893.0        0.000000  0.0439  0.0349 -0.0599  0.0043 -0.0217   \n",
       "2  3893.0       -0.384615  0.0164  0.0037  0.0166  0.0047  0.0160   \n",
       "3  3893.0       -0.062500 -0.0211 -0.0169 -0.0033  0.0044  0.0026   \n",
       "4  3893.0       -0.066667  0.0011 -0.0053  0.0013  0.0038 -0.0068   \n",
       "\n",
       "   split_dummy  div_init_dummy  \n",
       "0            0               0  \n",
       "1            0               0  \n",
       "2            0               0  \n",
       "3            0               0  \n",
       "4            0               0  "
      ]
     },
     "execution_count": 4,
     "metadata": {},
     "output_type": "execute_result"
    }
   ],
   "source": [
    "raw_data.head()"
   ]
  },
  {
   "cell_type": "code",
   "execution_count": 5,
   "metadata": {},
   "outputs": [
    {
     "data": {
      "text/html": [
       "<div>\n",
       "<style scoped>\n",
       "    .dataframe tbody tr th:only-of-type {\n",
       "        vertical-align: middle;\n",
       "    }\n",
       "\n",
       "    .dataframe tbody tr th {\n",
       "        vertical-align: top;\n",
       "    }\n",
       "\n",
       "    .dataframe thead th {\n",
       "        text-align: right;\n",
       "    }\n",
       "</style>\n",
       "<table border=\"1\" class=\"dataframe\">\n",
       "  <thead>\n",
       "    <tr style=\"text-align: right;\">\n",
       "      <th></th>\n",
       "      <th>date</th>\n",
       "      <th>stock_id</th>\n",
       "      <th>ticker</th>\n",
       "      <th>shrout_adj_factor</th>\n",
       "      <th>price</th>\n",
       "      <th>return_incl_divs</th>\n",
       "      <th>shrout</th>\n",
       "      <th>return_ex_divs</th>\n",
       "      <th>mktrf</th>\n",
       "      <th>smb</th>\n",
       "      <th>hml</th>\n",
       "      <th>rf</th>\n",
       "      <th>mom</th>\n",
       "      <th>split_dummy</th>\n",
       "      <th>div_init_dummy</th>\n",
       "    </tr>\n",
       "  </thead>\n",
       "  <tbody>\n",
       "    <tr>\n",
       "      <th>2034845</th>\n",
       "      <td>31aug2018</td>\n",
       "      <td>93436</td>\n",
       "      <td>TSLA</td>\n",
       "      <td>NaN</td>\n",
       "      <td>301.660004</td>\n",
       "      <td>0.011806</td>\n",
       "      <td>170593.0</td>\n",
       "      <td>0.011806</td>\n",
       "      <td>0.0344</td>\n",
       "      <td>0.0123</td>\n",
       "      <td>-0.0412</td>\n",
       "      <td>0.0016</td>\n",
       "      <td>0.0530</td>\n",
       "      <td>0</td>\n",
       "      <td>0</td>\n",
       "    </tr>\n",
       "    <tr>\n",
       "      <th>2034846</th>\n",
       "      <td>28sep2018</td>\n",
       "      <td>93436</td>\n",
       "      <td>TSLA</td>\n",
       "      <td>NaN</td>\n",
       "      <td>264.769989</td>\n",
       "      <td>-0.122290</td>\n",
       "      <td>171578.0</td>\n",
       "      <td>-0.122290</td>\n",
       "      <td>0.0006</td>\n",
       "      <td>-0.0237</td>\n",
       "      <td>-0.0134</td>\n",
       "      <td>0.0015</td>\n",
       "      <td>-0.0009</td>\n",
       "      <td>0</td>\n",
       "      <td>0</td>\n",
       "    </tr>\n",
       "    <tr>\n",
       "      <th>2034847</th>\n",
       "      <td>31oct2018</td>\n",
       "      <td>93436</td>\n",
       "      <td>TSLA</td>\n",
       "      <td>NaN</td>\n",
       "      <td>337.320007</td>\n",
       "      <td>0.274011</td>\n",
       "      <td>171733.0</td>\n",
       "      <td>0.274011</td>\n",
       "      <td>-0.0768</td>\n",
       "      <td>-0.0468</td>\n",
       "      <td>0.0341</td>\n",
       "      <td>0.0019</td>\n",
       "      <td>-0.0182</td>\n",
       "      <td>0</td>\n",
       "      <td>0</td>\n",
       "    </tr>\n",
       "    <tr>\n",
       "      <th>2034848</th>\n",
       "      <td>30nov2018</td>\n",
       "      <td>93436</td>\n",
       "      <td>TSLA</td>\n",
       "      <td>NaN</td>\n",
       "      <td>350.480011</td>\n",
       "      <td>0.039013</td>\n",
       "      <td>171733.0</td>\n",
       "      <td>0.039013</td>\n",
       "      <td>0.0169</td>\n",
       "      <td>-0.0074</td>\n",
       "      <td>0.0019</td>\n",
       "      <td>0.0018</td>\n",
       "      <td>-0.0140</td>\n",
       "      <td>0</td>\n",
       "      <td>0</td>\n",
       "    </tr>\n",
       "    <tr>\n",
       "      <th>2034849</th>\n",
       "      <td>31dec2018</td>\n",
       "      <td>93436</td>\n",
       "      <td>TSLA</td>\n",
       "      <td>NaN</td>\n",
       "      <td>332.799988</td>\n",
       "      <td>-0.050445</td>\n",
       "      <td>171733.0</td>\n",
       "      <td>-0.050445</td>\n",
       "      <td>-0.0955</td>\n",
       "      <td>-0.0260</td>\n",
       "      <td>-0.0151</td>\n",
       "      <td>0.0019</td>\n",
       "      <td>0.0173</td>\n",
       "      <td>0</td>\n",
       "      <td>0</td>\n",
       "    </tr>\n",
       "  </tbody>\n",
       "</table>\n",
       "</div>"
      ],
      "text/plain": [
       "              date  stock_id ticker  shrout_adj_factor       price  \\\n",
       "2034845  31aug2018     93436   TSLA                NaN  301.660004   \n",
       "2034846  28sep2018     93436   TSLA                NaN  264.769989   \n",
       "2034847  31oct2018     93436   TSLA                NaN  337.320007   \n",
       "2034848  30nov2018     93436   TSLA                NaN  350.480011   \n",
       "2034849  31dec2018     93436   TSLA                NaN  332.799988   \n",
       "\n",
       "         return_incl_divs    shrout  return_ex_divs   mktrf     smb     hml  \\\n",
       "2034845          0.011806  170593.0        0.011806  0.0344  0.0123 -0.0412   \n",
       "2034846         -0.122290  171578.0       -0.122290  0.0006 -0.0237 -0.0134   \n",
       "2034847          0.274011  171733.0        0.274011 -0.0768 -0.0468  0.0341   \n",
       "2034848          0.039013  171733.0        0.039013  0.0169 -0.0074  0.0019   \n",
       "2034849         -0.050445  171733.0       -0.050445 -0.0955 -0.0260 -0.0151   \n",
       "\n",
       "             rf     mom  split_dummy  div_init_dummy  \n",
       "2034845  0.0016  0.0530            0               0  \n",
       "2034846  0.0015 -0.0009            0               0  \n",
       "2034847  0.0019 -0.0182            0               0  \n",
       "2034848  0.0018 -0.0140            0               0  \n",
       "2034849  0.0019  0.0173            0               0  "
      ]
     },
     "execution_count": 5,
     "metadata": {},
     "output_type": "execute_result"
    }
   ],
   "source": [
    "raw_data.tail()"
   ]
  },
  {
   "cell_type": "code",
   "execution_count": 6,
   "metadata": {},
   "outputs": [
    {
     "data": {
      "text/html": [
       "<div>\n",
       "<style scoped>\n",
       "    .dataframe tbody tr th:only-of-type {\n",
       "        vertical-align: middle;\n",
       "    }\n",
       "\n",
       "    .dataframe tbody tr th {\n",
       "        vertical-align: top;\n",
       "    }\n",
       "\n",
       "    .dataframe thead th {\n",
       "        text-align: right;\n",
       "    }\n",
       "</style>\n",
       "<table border=\"1\" class=\"dataframe\">\n",
       "  <thead>\n",
       "    <tr style=\"text-align: right;\">\n",
       "      <th></th>\n",
       "      <th>stock_id</th>\n",
       "      <th>ticker</th>\n",
       "      <th>shrout_adj_factor</th>\n",
       "      <th>price</th>\n",
       "      <th>return_incl_divs</th>\n",
       "      <th>shrout</th>\n",
       "      <th>return_ex_divs</th>\n",
       "      <th>mktrf</th>\n",
       "      <th>smb</th>\n",
       "      <th>hml</th>\n",
       "      <th>rf</th>\n",
       "      <th>mom</th>\n",
       "      <th>split_dummy</th>\n",
       "      <th>div_init_dummy</th>\n",
       "    </tr>\n",
       "    <tr>\n",
       "      <th>date</th>\n",
       "      <th></th>\n",
       "      <th></th>\n",
       "      <th></th>\n",
       "      <th></th>\n",
       "      <th></th>\n",
       "      <th></th>\n",
       "      <th></th>\n",
       "      <th></th>\n",
       "      <th></th>\n",
       "      <th></th>\n",
       "      <th></th>\n",
       "      <th></th>\n",
       "      <th></th>\n",
       "      <th></th>\n",
       "    </tr>\n",
       "  </thead>\n",
       "  <tbody>\n",
       "    <tr>\n",
       "      <th>1987-01-30</th>\n",
       "      <td>10000</td>\n",
       "      <td>OMFGA</td>\n",
       "      <td>0.0</td>\n",
       "      <td>0.406250</td>\n",
       "      <td>-0.212121</td>\n",
       "      <td>3893.0</td>\n",
       "      <td>-0.212121</td>\n",
       "      <td>0.1247</td>\n",
       "      <td>-0.0181</td>\n",
       "      <td>-0.0318</td>\n",
       "      <td>0.0042</td>\n",
       "      <td>0.0210</td>\n",
       "      <td>0</td>\n",
       "      <td>0</td>\n",
       "    </tr>\n",
       "    <tr>\n",
       "      <th>1987-02-27</th>\n",
       "      <td>10000</td>\n",
       "      <td>OMFGA</td>\n",
       "      <td>0.0</td>\n",
       "      <td>0.406250</td>\n",
       "      <td>0.000000</td>\n",
       "      <td>3893.0</td>\n",
       "      <td>0.000000</td>\n",
       "      <td>0.0439</td>\n",
       "      <td>0.0349</td>\n",
       "      <td>-0.0599</td>\n",
       "      <td>0.0043</td>\n",
       "      <td>-0.0217</td>\n",
       "      <td>0</td>\n",
       "      <td>0</td>\n",
       "    </tr>\n",
       "    <tr>\n",
       "      <th>1987-03-31</th>\n",
       "      <td>10000</td>\n",
       "      <td>OMFGA</td>\n",
       "      <td>0.0</td>\n",
       "      <td>0.250000</td>\n",
       "      <td>-0.384615</td>\n",
       "      <td>3893.0</td>\n",
       "      <td>-0.384615</td>\n",
       "      <td>0.0164</td>\n",
       "      <td>0.0037</td>\n",
       "      <td>0.0166</td>\n",
       "      <td>0.0047</td>\n",
       "      <td>0.0160</td>\n",
       "      <td>0</td>\n",
       "      <td>0</td>\n",
       "    </tr>\n",
       "    <tr>\n",
       "      <th>1987-04-30</th>\n",
       "      <td>10000</td>\n",
       "      <td>OMFGA</td>\n",
       "      <td>0.0</td>\n",
       "      <td>0.234375</td>\n",
       "      <td>-0.062500</td>\n",
       "      <td>3893.0</td>\n",
       "      <td>-0.062500</td>\n",
       "      <td>-0.0211</td>\n",
       "      <td>-0.0169</td>\n",
       "      <td>-0.0033</td>\n",
       "      <td>0.0044</td>\n",
       "      <td>0.0026</td>\n",
       "      <td>0</td>\n",
       "      <td>0</td>\n",
       "    </tr>\n",
       "    <tr>\n",
       "      <th>1987-05-29</th>\n",
       "      <td>10000</td>\n",
       "      <td>OMFGA</td>\n",
       "      <td>0.0</td>\n",
       "      <td>0.218750</td>\n",
       "      <td>-0.066667</td>\n",
       "      <td>3893.0</td>\n",
       "      <td>-0.066667</td>\n",
       "      <td>0.0011</td>\n",
       "      <td>-0.0053</td>\n",
       "      <td>0.0013</td>\n",
       "      <td>0.0038</td>\n",
       "      <td>-0.0068</td>\n",
       "      <td>0</td>\n",
       "      <td>0</td>\n",
       "    </tr>\n",
       "  </tbody>\n",
       "</table>\n",
       "</div>"
      ],
      "text/plain": [
       "            stock_id ticker  shrout_adj_factor     price  return_incl_divs  \\\n",
       "date                                                                         \n",
       "1987-01-30     10000  OMFGA                0.0  0.406250         -0.212121   \n",
       "1987-02-27     10000  OMFGA                0.0  0.406250          0.000000   \n",
       "1987-03-31     10000  OMFGA                0.0  0.250000         -0.384615   \n",
       "1987-04-30     10000  OMFGA                0.0  0.234375         -0.062500   \n",
       "1987-05-29     10000  OMFGA                0.0  0.218750         -0.066667   \n",
       "\n",
       "            shrout  return_ex_divs   mktrf     smb     hml      rf     mom  \\\n",
       "date                                                                         \n",
       "1987-01-30  3893.0       -0.212121  0.1247 -0.0181 -0.0318  0.0042  0.0210   \n",
       "1987-02-27  3893.0        0.000000  0.0439  0.0349 -0.0599  0.0043 -0.0217   \n",
       "1987-03-31  3893.0       -0.384615  0.0164  0.0037  0.0166  0.0047  0.0160   \n",
       "1987-04-30  3893.0       -0.062500 -0.0211 -0.0169 -0.0033  0.0044  0.0026   \n",
       "1987-05-29  3893.0       -0.066667  0.0011 -0.0053  0.0013  0.0038 -0.0068   \n",
       "\n",
       "            split_dummy  div_init_dummy  \n",
       "date                                     \n",
       "1987-01-30            0               0  \n",
       "1987-02-27            0               0  \n",
       "1987-03-31            0               0  \n",
       "1987-04-30            0               0  \n",
       "1987-05-29            0               0  "
      ]
     },
     "execution_count": 6,
     "metadata": {},
     "output_type": "execute_result"
    }
   ],
   "source": [
    "data = raw_data.copy()\n",
    "data.date = pd.to_datetime(data.date, format=\"%d%b%Y\")\n",
    "data.index = data['date']\n",
    "data = data.drop(['date'],axis=1)\n",
    "data.shrout_adj_factor = data.shrout_adj_factor.fillna(0)\n",
    "RB =data.index.unique()\n",
    "data.head()"
   ]
  },
  {
   "cell_type": "markdown",
   "metadata": {},
   "source": [
    "### functions"
   ]
  },
  {
   "cell_type": "code",
   "execution_count": 7,
   "metadata": {},
   "outputs": [],
   "source": [
    "def select_div_stocks(data, rb):\n",
    "    data = data.loc[rb] \n",
    "    div_stock = data[data.div_init_dummy > 0].stock_id\n",
    "    if len(div_stock) == 0:\n",
    "        div_stock = data.stock_id\n",
    "    return(list(div_stock.unique()))\n",
    "def select_split_stocks(data, rb):\n",
    "    data = data.loc[rb] \n",
    "    split_stock = data[data.split_dummy > 0].stock_id\n",
    "    if len(split_stock) == 0:\n",
    "        split_stock = data.stock_id\n",
    "    return(list(split_stock.unique()))\n",
    "def calc_weights(assets):\n",
    "    return pd.Series(1.0, index=assets) / n"
   ]
  },
  {
   "cell_type": "markdown",
   "metadata": {},
   "source": [
    "### Test of first month_ew_div(1988-01-29) "
   ]
  },
  {
   "cell_type": "code",
   "execution_count": 8,
   "metadata": {},
   "outputs": [
    {
     "data": {
      "text/plain": [
       "0.07406233522172953"
      ]
     },
     "execution_count": 8,
     "metadata": {},
     "output_type": "execute_result"
    }
   ],
   "source": [
    "i=0\n",
    "rb      = RB[i:i+12]     # 1st element of RB\n",
    "rb_next = RB[i+1:i+13]   # 2nd element of RB\n",
    "    \n",
    "assets = select_div_stocks(data,rb)\n",
    "#return data should be used from end of invested month's last day's return value\n",
    "t = data[(data.stock_id.isin(assets)) & (data.price.notna())].loc[rb_next[-1]]\n",
    "#number of assets that has been invested\n",
    "n = len(data[(data.stock_id.isin(assets)) & (data.price.notna())].loc[rb[-1]])\n",
    "current_positions = t.price\n",
    "#weights should use data from 'n' (t >= n)\n",
    "weights = calc_weights(assets)\n",
    "current_ret = sum(list(t.return_incl_divs.fillna(0))*weights[0:len(t.return_incl_divs.fillna(0))])\n",
    "current_ret"
   ]
  },
  {
   "cell_type": "markdown",
   "metadata": {},
   "source": [
    "## Equal weight dividend stock investment"
   ]
  },
  {
   "cell_type": "code",
   "execution_count": 9,
   "metadata": {},
   "outputs": [],
   "source": [
    "value = 1\n",
    "ret = []\n",
    "mktrf = []\n",
    "for i in range(0,len(RB)-12):\n",
    "    rb      = RB[i:i+12]    \n",
    "    rb_next = RB[i+1:i+13]  \n",
    "    assets = select_div_stocks(data,rb)\n",
    "    t = data[(data.stock_id.isin(assets)) & (data.price.notna())].loc[rb_next[-1]]\n",
    "    n = len(data[(data.stock_id.isin(assets)) & (data.price.notna())].loc[rb[-1]])\n",
    "    current_positions = t.price\n",
    "    weights = calc_weights(assets)\n",
    "    current_ret = sum(list(t.return_incl_divs.fillna(0))*weights[0:len(t.return_incl_divs.fillna(0))])\n",
    "    ret.append(current_ret)\n",
    "    mktrf.append(list(t.mktrf.unique()))\n",
    "    value = value*(1 + current_ret)"
   ]
  },
  {
   "cell_type": "code",
   "execution_count": 10,
   "metadata": {},
   "outputs": [
    {
     "data": {
      "text/plain": [
       "97.45870233628912"
      ]
     },
     "execution_count": 10,
     "metadata": {},
     "output_type": "execute_result"
    }
   ],
   "source": [
    "value"
   ]
  },
  {
   "cell_type": "code",
   "execution_count": 11,
   "metadata": {},
   "outputs": [
    {
     "data": {
      "image/png": "[encoded data removed]",
      "text/plain": [
       "<Figure size 432x288 with 1 Axes>"
      ]
     },
     "metadata": {},
     "output_type": "display_data"
    }
   ],
   "source": [
    "RET_ew_div = pd.DataFrame(index=RB[12:],data=ret)\n",
    "RET_ew_div.columns=['ret']\n",
    "RET_ew_div.ret.add(1).cumprod()\n",
    "plt.plot(RET_ew_div.ret.add(1).cumprod())\n",
    "plt.show()"
   ]
  },
  {
   "cell_type": "markdown",
   "metadata": {},
   "source": [
    "## Annual_ew_div's Sharpe ratio table"
   ]
  },
  {
   "cell_type": "code",
   "execution_count": 12,
   "metadata": {},
   "outputs": [
    {
     "data": {
      "text/html": [
       "<div>\n",
       "<style scoped>\n",
       "    .dataframe tbody tr th:only-of-type {\n",
       "        vertical-align: middle;\n",
       "    }\n",
       "\n",
       "    .dataframe tbody tr th {\n",
       "        vertical-align: top;\n",
       "    }\n",
       "\n",
       "    .dataframe thead th {\n",
       "        text-align: right;\n",
       "    }\n",
       "</style>\n",
       "<table border=\"1\" class=\"dataframe\">\n",
       "  <thead>\n",
       "    <tr style=\"text-align: right;\">\n",
       "      <th></th>\n",
       "      <th>RP</th>\n",
       "      <th>Vol</th>\n",
       "      <th>Sharpe</th>\n",
       "    </tr>\n",
       "  </thead>\n",
       "  <tbody>\n",
       "    <tr>\n",
       "      <th>ret</th>\n",
       "      <td>0.151286</td>\n",
       "      <td>0.141591</td>\n",
       "      <td>1.068468</td>\n",
       "    </tr>\n",
       "  </tbody>\n",
       "</table>\n",
       "</div>"
      ],
      "text/plain": [
       "           RP       Vol    Sharpe\n",
       "ret  0.151286  0.141591  1.068468"
      ]
     },
     "execution_count": 12,
     "metadata": {},
     "output_type": "execute_result"
    }
   ],
   "source": [
    "rf = pd.DataFrame()\n",
    "rf['rf'] = data.rf[~data.rf.index.duplicated(keep='first')]\n",
    "RET_ew_div.sub(rf.rf, axis=0)\n",
    "RX_ew_div_MONTHLY = RET_ew_div.sub(rf.rf, axis=0)['1988':]\n",
    "RET_ew_div_table = pd.DataFrame()\n",
    "RET_ew_div_table['RP']     = RX_ew_div_MONTHLY.add(1).resample('A').agg('prod').sub(1).mean()\n",
    "RET_ew_div_table['Vol']    = RX_ew_div_MONTHLY.std()*12**0.5       \n",
    "RET_ew_div_table['Sharpe'] = RET_ew_div_table.RP / RET_ew_div_table.Vol\n",
    "RET_ew_div_table"
   ]
  },
  {
   "cell_type": "markdown",
   "metadata": {},
   "source": [
    "## Comparing two periods' Sharpe Ratio"
   ]
  },
  {
   "cell_type": "code",
   "execution_count": 13,
   "metadata": {},
   "outputs": [
    {
     "data": {
      "text/html": [
       "<div>\n",
       "<style scoped>\n",
       "    .dataframe tbody tr th:only-of-type {\n",
       "        vertical-align: middle;\n",
       "    }\n",
       "\n",
       "    .dataframe tbody tr th {\n",
       "        vertical-align: top;\n",
       "    }\n",
       "\n",
       "    .dataframe thead th {\n",
       "        text-align: right;\n",
       "    }\n",
       "</style>\n",
       "<table border=\"1\" class=\"dataframe\">\n",
       "  <thead>\n",
       "    <tr style=\"text-align: right;\">\n",
       "      <th></th>\n",
       "      <th>SR1</th>\n",
       "      <th>SR2</th>\n",
       "    </tr>\n",
       "  </thead>\n",
       "  <tbody>\n",
       "    <tr>\n",
       "      <th>ret</th>\n",
       "      <td>1.236115</td>\n",
       "      <td>0.873805</td>\n",
       "    </tr>\n",
       "  </tbody>\n",
       "</table>\n",
       "</div>"
      ],
      "text/plain": [
       "          SR1       SR2\n",
       "ret  1.236115  0.873805"
      ]
     },
     "execution_count": 13,
     "metadata": {},
     "output_type": "execute_result"
    }
   ],
   "source": [
    "R1 = RX_ew_div_MONTHLY['1988':'2003-06']\n",
    "R2 = RX_ew_div_MONTHLY['2003-07':'2018']\n",
    "Ctable_ew_div = pd.DataFrame()\n",
    "Ctable_ew_div['SR1'] = R1.add(1).resample('A').agg('prod').sub(1).mean()/(R1.std()*12**0.5)\n",
    "Ctable_ew_div['SR2'] = R2.add(1).resample('A').agg('prod').sub(1).mean()/(R2.std()*12**0.5)\n",
    "Ctable_ew_div"
   ]
  },
  {
   "cell_type": "markdown",
   "metadata": {},
   "source": [
    "## Finding alpha and beta in Monthly_ew_div"
   ]
  },
  {
   "cell_type": "code",
   "execution_count": 14,
   "metadata": {},
   "outputs": [
    {
     "data": {
      "text/html": [
       "<table class=\"simpletable\">\n",
       "<caption>OLS Regression Results</caption>\n",
       "<tr>\n",
       "  <th>Dep. Variable:</th>           <td>ret</td>       <th>  R-squared:         </th> <td>   0.655</td>\n",
       "</tr>\n",
       "<tr>\n",
       "  <th>Model:</th>                   <td>OLS</td>       <th>  Adj. R-squared:    </th> <td>   0.654</td>\n",
       "</tr>\n",
       "<tr>\n",
       "  <th>Method:</th>             <td>Least Squares</td>  <th>  F-statistic:       </th> <td>   701.1</td>\n",
       "</tr>\n",
       "<tr>\n",
       "  <th>Date:</th>             <td>Fri, 05 Apr 2019</td> <th>  Prob (F-statistic):</th> <td>2.03e-87</td>\n",
       "</tr>\n",
       "<tr>\n",
       "  <th>Time:</th>                 <td>04:53:40</td>     <th>  Log-Likelihood:    </th> <td>  859.74</td>\n",
       "</tr>\n",
       "<tr>\n",
       "  <th>No. Observations:</th>      <td>   372</td>      <th>  AIC:               </th> <td>  -1715.</td>\n",
       "</tr>\n",
       "<tr>\n",
       "  <th>Df Residuals:</th>          <td>   370</td>      <th>  BIC:               </th> <td>  -1708.</td>\n",
       "</tr>\n",
       "<tr>\n",
       "  <th>Df Model:</th>              <td>     1</td>      <th>                     </th>     <td> </td>   \n",
       "</tr>\n",
       "<tr>\n",
       "  <th>Covariance Type:</th>      <td>nonrobust</td>    <th>                     </th>     <td> </td>   \n",
       "</tr>\n",
       "</table>\n",
       "<table class=\"simpletable\">\n",
       "<tr>\n",
       "    <td></td>       <th>coef</th>     <th>std err</th>      <th>t</th>      <th>P>|t|</th>  <th>[0.025</th>    <th>0.975]</th>  \n",
       "</tr>\n",
       "<tr>\n",
       "  <th>const</th> <td>    0.0055</td> <td>    0.001</td> <td>    4.377</td> <td> 0.000</td> <td>    0.003</td> <td>    0.008</td>\n",
       "</tr>\n",
       "<tr>\n",
       "  <th>mktrf</th> <td>    0.7930</td> <td>    0.030</td> <td>   26.478</td> <td> 0.000</td> <td>    0.734</td> <td>    0.852</td>\n",
       "</tr>\n",
       "</table>\n",
       "<table class=\"simpletable\">\n",
       "<tr>\n",
       "  <th>Omnibus:</th>       <td> 8.689</td> <th>  Durbin-Watson:     </th> <td>   1.509</td>\n",
       "</tr>\n",
       "<tr>\n",
       "  <th>Prob(Omnibus):</th> <td> 0.013</td> <th>  Jarque-Bera (JB):  </th> <td>  11.487</td>\n",
       "</tr>\n",
       "<tr>\n",
       "  <th>Skew:</th>          <td> 0.202</td> <th>  Prob(JB):          </th> <td> 0.00320</td>\n",
       "</tr>\n",
       "<tr>\n",
       "  <th>Kurtosis:</th>      <td> 3.761</td> <th>  Cond. No.          </th> <td>    24.0</td>\n",
       "</tr>\n",
       "</table><br/><br/>Warnings:<br/>[1] Standard Errors assume that the covariance matrix of the errors is correctly specified."
      ],
      "text/plain": [
       "<class 'statsmodels.iolib.summary.Summary'>\n",
       "\"\"\"\n",
       "                            OLS Regression Results                            \n",
       "==============================================================================\n",
       "Dep. Variable:                    ret   R-squared:                       0.655\n",
       "Model:                            OLS   Adj. R-squared:                  0.654\n",
       "Method:                 Least Squares   F-statistic:                     701.1\n",
       "Date:                Fri, 05 Apr 2019   Prob (F-statistic):           2.03e-87\n",
       "Time:                        04:53:40   Log-Likelihood:                 859.74\n",
       "No. Observations:                 372   AIC:                            -1715.\n",
       "Df Residuals:                     370   BIC:                            -1708.\n",
       "Df Model:                           1                                         \n",
       "Covariance Type:            nonrobust                                         \n",
       "==============================================================================\n",
       "                 coef    std err          t      P>|t|      [0.025      0.975]\n",
       "------------------------------------------------------------------------------\n",
       "const          0.0055      0.001      4.377      0.000       0.003       0.008\n",
       "mktrf          0.7930      0.030     26.478      0.000       0.734       0.852\n",
       "==============================================================================\n",
       "Omnibus:                        8.689   Durbin-Watson:                   1.509\n",
       "Prob(Omnibus):                  0.013   Jarque-Bera (JB):               11.487\n",
       "Skew:                           0.202   Prob(JB):                      0.00320\n",
       "Kurtosis:                       3.761   Cond. No.                         24.0\n",
       "==============================================================================\n",
       "\n",
       "Warnings:\n",
       "[1] Standard Errors assume that the covariance matrix of the errors is correctly specified.\n",
       "\"\"\""
      ]
     },
     "execution_count": 14,
     "metadata": {},
     "output_type": "execute_result"
    }
   ],
   "source": [
    "start = '1988'\n",
    "end   = '2018'\n",
    "\n",
    "y = RX_ew_div_MONTHLY[start:end]\n",
    "x = pd.DataFrame(index=RB[12:],data=mktrf)\n",
    "x.columns = ['mktrf']\n",
    "x1 = x[start:end]\n",
    "\n",
    "sm.OLS(y, sm.add_constant(x1),  missing='drop').fit().summary() "
   ]
  },
  {
   "cell_type": "markdown",
   "metadata": {},
   "source": [
    "## Equal weight split stock investment"
   ]
  },
  {
   "cell_type": "code",
   "execution_count": 15,
   "metadata": {},
   "outputs": [],
   "source": [
    "value = 1\n",
    "ret = []\n",
    "mktrf = []\n",
    "for i in range(0,len(RB)-12):\n",
    "    rb      = RB[i:i+12]     # 1st element of RB\n",
    "    rb_next = RB[i+1:i+13]   # 2nd element of RB\n",
    "    \n",
    "    assets = select_split_stocks(data,rb)\n",
    "    t = data[(data.stock_id.isin(assets)) & (data.price.notna())].loc[rb_next[-1]]\n",
    "    n = len(data[(data.stock_id.isin(assets)) & (data.price.notna())].loc[rb[-1]])\n",
    "    current_positions = t.price\n",
    "    weights = calc_weights(assets)\n",
    "    current_ret = sum(list(t.return_incl_divs.fillna(0))*weights[0:len(t.return_incl_divs.fillna(0))])\n",
    "    ret.append(current_ret)\n",
    "    mktrf.append(list(t.mktrf.unique()))\n",
    "    value = value*(1 + current_ret)"
   ]
  },
  {
   "cell_type": "code",
   "execution_count": 16,
   "metadata": {},
   "outputs": [
    {
     "data": {
      "text/plain": [
       "30.320057147640668"
      ]
     },
     "execution_count": 16,
     "metadata": {},
     "output_type": "execute_result"
    }
   ],
   "source": [
    "value"
   ]
  },
  {
   "cell_type": "code",
   "execution_count": 17,
   "metadata": {},
   "outputs": [
    {
     "data": {
      "image/png": "[encoded data removed]",
      "text/plain": [
       "<Figure size 432x288 with 1 Axes>"
      ]
     },
     "metadata": {},
     "output_type": "display_data"
    }
   ],
   "source": [
    "RET_ew_split = pd.DataFrame(index=RB[12:],data=ret)\n",
    "RET_ew_split.columns=['ret']\n",
    "RET_ew_split.ret.add(1).cumprod()\n",
    "plt.plot(RET_ew_split.ret.add(1).cumprod())\n",
    "plt.show()"
   ]
  },
  {
   "cell_type": "markdown",
   "metadata": {},
   "source": [
    "## Annual_ew_split's Sharpe ratio table"
   ]
  },
  {
   "cell_type": "code",
   "execution_count": 18,
   "metadata": {},
   "outputs": [
    {
     "data": {
      "text/html": [
       "<div>\n",
       "<style scoped>\n",
       "    .dataframe tbody tr th:only-of-type {\n",
       "        vertical-align: middle;\n",
       "    }\n",
       "\n",
       "    .dataframe tbody tr th {\n",
       "        vertical-align: top;\n",
       "    }\n",
       "\n",
       "    .dataframe thead th {\n",
       "        text-align: right;\n",
       "    }\n",
       "</style>\n",
       "<table border=\"1\" class=\"dataframe\">\n",
       "  <thead>\n",
       "    <tr style=\"text-align: right;\">\n",
       "      <th></th>\n",
       "      <th>RP</th>\n",
       "      <th>Vol</th>\n",
       "      <th>Sharpe</th>\n",
       "    </tr>\n",
       "  </thead>\n",
       "  <tbody>\n",
       "    <tr>\n",
       "      <th>ret</th>\n",
       "      <td>0.109445</td>\n",
       "      <td>0.194681</td>\n",
       "      <td>0.562177</td>\n",
       "    </tr>\n",
       "  </tbody>\n",
       "</table>\n",
       "</div>"
      ],
      "text/plain": [
       "           RP       Vol    Sharpe\n",
       "ret  0.109445  0.194681  0.562177"
      ]
     },
     "execution_count": 18,
     "metadata": {},
     "output_type": "execute_result"
    }
   ],
   "source": [
    "rf = pd.DataFrame()\n",
    "rf['rf'] = data.rf[~data.rf.index.duplicated(keep='first')]\n",
    "RET_ew_split.sub(rf.rf, axis=0)\n",
    "RX_ew_split_MONTHLY = RET_ew_split.sub(rf.rf, axis=0)['1988':]\n",
    "RET_ew_split_table = pd.DataFrame()                        \n",
    "RET_ew_split_table['RP']     = RX_ew_split_MONTHLY.add(1).resample('A').agg('prod').sub(1).mean()\n",
    "RET_ew_split_table['Vol']    = RX_ew_split_MONTHLY.std()*12**0.5     \n",
    "RET_ew_split_table['Sharpe'] = RET_ew_split_table.RP / RET_ew_split_table.Vol\n",
    "RET_ew_split_table"
   ]
  },
  {
   "cell_type": "markdown",
   "metadata": {},
   "source": [
    "## Comparing two periods' Sharpe Ratio"
   ]
  },
  {
   "cell_type": "code",
   "execution_count": 19,
   "metadata": {},
   "outputs": [
    {
     "data": {
      "text/html": [
       "<div>\n",
       "<style scoped>\n",
       "    .dataframe tbody tr th:only-of-type {\n",
       "        vertical-align: middle;\n",
       "    }\n",
       "\n",
       "    .dataframe tbody tr th {\n",
       "        vertical-align: top;\n",
       "    }\n",
       "\n",
       "    .dataframe thead th {\n",
       "        text-align: right;\n",
       "    }\n",
       "</style>\n",
       "<table border=\"1\" class=\"dataframe\">\n",
       "  <thead>\n",
       "    <tr style=\"text-align: right;\">\n",
       "      <th></th>\n",
       "      <th>SR1</th>\n",
       "      <th>SR2</th>\n",
       "    </tr>\n",
       "  </thead>\n",
       "  <tbody>\n",
       "    <tr>\n",
       "      <th>ret</th>\n",
       "      <td>0.405257</td>\n",
       "      <td>0.700489</td>\n",
       "    </tr>\n",
       "  </tbody>\n",
       "</table>\n",
       "</div>"
      ],
      "text/plain": [
       "          SR1       SR2\n",
       "ret  0.405257  0.700489"
      ]
     },
     "execution_count": 19,
     "metadata": {},
     "output_type": "execute_result"
    }
   ],
   "source": [
    "R1 = RX_ew_split_MONTHLY['1988':'2003-06'] \n",
    "R2 = RX_ew_split_MONTHLY['2003-07':'2018'] \n",
    "Ctable_ew_split = pd.DataFrame()\n",
    "Ctable_ew_split['SR1'] = R1.add(1).resample('A').agg('prod').sub(1).mean()/(R1.std()*12**0.5)\n",
    "Ctable_ew_split['SR2'] = R2.add(1).resample('A').agg('prod').sub(1).mean()/(R2.std()*12**0.5)\n",
    "Ctable_ew_split"
   ]
  },
  {
   "cell_type": "markdown",
   "metadata": {},
   "source": [
    "## Finding alpha and beta in Monthly_ew_split"
   ]
  },
  {
   "cell_type": "code",
   "execution_count": 20,
   "metadata": {},
   "outputs": [
    {
     "data": {
      "text/html": [
       "<table class=\"simpletable\">\n",
       "<caption>OLS Regression Results</caption>\n",
       "<tr>\n",
       "  <th>Dep. Variable:</th>           <td>ret</td>       <th>  R-squared:         </th> <td>   0.755</td> \n",
       "</tr>\n",
       "<tr>\n",
       "  <th>Model:</th>                   <td>OLS</td>       <th>  Adj. R-squared:    </th> <td>   0.754</td> \n",
       "</tr>\n",
       "<tr>\n",
       "  <th>Method:</th>             <td>Least Squares</td>  <th>  F-statistic:       </th> <td>   1139.</td> \n",
       "</tr>\n",
       "<tr>\n",
       "  <th>Date:</th>             <td>Fri, 05 Apr 2019</td> <th>  Prob (F-statistic):</th> <td>5.59e-115</td>\n",
       "</tr>\n",
       "<tr>\n",
       "  <th>Time:</th>                 <td>04:57:28</td>     <th>  Log-Likelihood:    </th> <td>  805.02</td> \n",
       "</tr>\n",
       "<tr>\n",
       "  <th>No. Observations:</th>      <td>   372</td>      <th>  AIC:               </th> <td>  -1606.</td> \n",
       "</tr>\n",
       "<tr>\n",
       "  <th>Df Residuals:</th>          <td>   370</td>      <th>  BIC:               </th> <td>  -1598.</td> \n",
       "</tr>\n",
       "<tr>\n",
       "  <th>Df Model:</th>              <td>     1</td>      <th>                     </th>     <td> </td>    \n",
       "</tr>\n",
       "<tr>\n",
       "  <th>Covariance Type:</th>      <td>nonrobust</td>    <th>                     </th>     <td> </td>    \n",
       "</tr>\n",
       "</table>\n",
       "<table class=\"simpletable\">\n",
       "<tr>\n",
       "    <td></td>       <th>coef</th>     <th>std err</th>      <th>t</th>      <th>P>|t|</th>  <th>[0.025</th>    <th>0.975]</th>  \n",
       "</tr>\n",
       "<tr>\n",
       "  <th>const</th> <td>    0.0006</td> <td>    0.001</td> <td>    0.434</td> <td> 0.664</td> <td>   -0.002</td> <td>    0.004</td>\n",
       "</tr>\n",
       "<tr>\n",
       "  <th>mktrf</th> <td>    1.1708</td> <td>    0.035</td> <td>   33.746</td> <td> 0.000</td> <td>    1.103</td> <td>    1.239</td>\n",
       "</tr>\n",
       "</table>\n",
       "<table class=\"simpletable\">\n",
       "<tr>\n",
       "  <th>Omnibus:</th>       <td>51.284</td> <th>  Durbin-Watson:     </th> <td>   2.008</td>\n",
       "</tr>\n",
       "<tr>\n",
       "  <th>Prob(Omnibus):</th> <td> 0.000</td> <th>  Jarque-Bera (JB):  </th> <td> 203.370</td>\n",
       "</tr>\n",
       "<tr>\n",
       "  <th>Skew:</th>          <td> 0.517</td> <th>  Prob(JB):          </th> <td>6.90e-45</td>\n",
       "</tr>\n",
       "<tr>\n",
       "  <th>Kurtosis:</th>      <td> 6.472</td> <th>  Cond. No.          </th> <td>    24.0</td>\n",
       "</tr>\n",
       "</table><br/><br/>Warnings:<br/>[1] Standard Errors assume that the covariance matrix of the errors is correctly specified."
      ],
      "text/plain": [
       "<class 'statsmodels.iolib.summary.Summary'>\n",
       "\"\"\"\n",
       "                            OLS Regression Results                            \n",
       "==============================================================================\n",
       "Dep. Variable:                    ret   R-squared:                       0.755\n",
       "Model:                            OLS   Adj. R-squared:                  0.754\n",
       "Method:                 Least Squares   F-statistic:                     1139.\n",
       "Date:                Fri, 05 Apr 2019   Prob (F-statistic):          5.59e-115\n",
       "Time:                        04:57:28   Log-Likelihood:                 805.02\n",
       "No. Observations:                 372   AIC:                            -1606.\n",
       "Df Residuals:                     370   BIC:                            -1598.\n",
       "Df Model:                           1                                         \n",
       "Covariance Type:            nonrobust                                         \n",
       "==============================================================================\n",
       "                 coef    std err          t      P>|t|      [0.025      0.975]\n",
       "------------------------------------------------------------------------------\n",
       "const          0.0006      0.001      0.434      0.664      -0.002       0.004\n",
       "mktrf          1.1708      0.035     33.746      0.000       1.103       1.239\n",
       "==============================================================================\n",
       "Omnibus:                       51.284   Durbin-Watson:                   2.008\n",
       "Prob(Omnibus):                  0.000   Jarque-Bera (JB):              203.370\n",
       "Skew:                           0.517   Prob(JB):                     6.90e-45\n",
       "Kurtosis:                       6.472   Cond. No.                         24.0\n",
       "==============================================================================\n",
       "\n",
       "Warnings:\n",
       "[1] Standard Errors assume that the covariance matrix of the errors is correctly specified.\n",
       "\"\"\""
      ]
     },
     "execution_count": 20,
     "metadata": {},
     "output_type": "execute_result"
    }
   ],
   "source": [
    "start = '1988'\n",
    "end   = '2018'\n",
    "\n",
    "y = RX_ew_split_MONTHLY[start:end]\n",
    "x = pd.DataFrame(index=RB[12:],data=mktrf)\n",
    "x.columns = ['mktrf']\n",
    "x1 = x[start:end]\n",
    "\n",
    "sm.OLS(y, sm.add_constant(x1),  missing='drop').fit().summary() "
   ]
  },
  {
   "cell_type": "markdown",
   "metadata": {},
   "source": [
    "## Value-based weight calculating function"
   ]
  },
  {
   "cell_type": "code",
   "execution_count": 21,
   "metadata": {},
   "outputs": [],
   "source": [
    "def calc_vweights(assets):\n",
    "    mcap = sum(list(((m.shrout_adj_factor+m.shrout)*m.price).fillna(0)))\n",
    "    vweights = list(((m.shrout_adj_factor+m.shrout)*m.price/mcap).fillna(0))[0:len(m.price)]\n",
    "    return pd.Series(vweights,index=assets[0:len(m.price)])"
   ]
  },
  {
   "cell_type": "markdown",
   "metadata": {},
   "source": [
    "### Test of first month_vw_div(1988-01-29)"
   ]
  },
  {
   "cell_type": "code",
   "execution_count": 22,
   "metadata": {},
   "outputs": [
    {
     "data": {
      "text/plain": [
       "0.05552948655306407"
      ]
     },
     "execution_count": 22,
     "metadata": {},
     "output_type": "execute_result"
    }
   ],
   "source": [
    "i=0\n",
    "rb      = RB[i:i+12]    \n",
    "rb_next = RB[i+1:i+13]  \n",
    "    \n",
    "assets = select_div_stocks(data,rb)\n",
    "t = data[(data.stock_id.isin(assets)) & (data.price.notna())].loc[rb_next[-1]]\n",
    "m = data[(data.stock_id.isin(assets)) & (data.price.notna())].loc[rb[-1]]\n",
    "current_positions = t.price\n",
    "weights = calc_vweights(assets)\n",
    "k = t.set_index('stock_id')\n",
    "temp = pd.concat([k,weights],axis=1,join='inner')\n",
    "current_ret = sum(list(temp.return_incl_divs.fillna(0))*(temp.iloc[:,13]))\n",
    "current_ret"
   ]
  },
  {
   "cell_type": "markdown",
   "metadata": {},
   "source": [
    "## Value weight divident stock investment"
   ]
  },
  {
   "cell_type": "code",
   "execution_count": 23,
   "metadata": {},
   "outputs": [],
   "source": [
    "value = 1\n",
    "ret = []\n",
    "mktrf = []\n",
    "for i in range(0,len(RB)-12):\n",
    "    rb      = RB[i:i+12]    \n",
    "    rb_next = RB[i+1:i+13]  \n",
    "    \n",
    "    assets = select_div_stocks(data,rb)\n",
    "    t = data[(data.stock_id.isin(assets)) & (data.price.notna())].loc[rb_next[-1]]\n",
    "    m = data[(data.stock_id.isin(assets)) & (data.price.notna())].loc[rb[-1]]\n",
    "    current_positions = t.price\n",
    "    weights = calc_vweights(assets)\n",
    "    k = t.set_index('stock_id')\n",
    "    temp = pd.concat([k,weights],axis=1,join='inner')\n",
    "    current_ret = sum(list(temp.return_incl_divs.fillna(0))*(temp.iloc[:,13]))\n",
    "    ret.append(current_ret)\n",
    "    mktrf.append(list(t.mktrf.unique()))\n",
    "    value = value*(1 + current_ret)    "
   ]
  },
  {
   "cell_type": "code",
   "execution_count": 24,
   "metadata": {},
   "outputs": [
    {
     "data": {
      "text/plain": [
       "46.81875640167888"
      ]
     },
     "execution_count": 24,
     "metadata": {},
     "output_type": "execute_result"
    }
   ],
   "source": [
    "value"
   ]
  },
  {
   "cell_type": "code",
   "execution_count": 25,
   "metadata": {},
   "outputs": [
    {
     "data": {
      "image/png": "[encoded data removed]",
      "text/plain": [
       "<Figure size 432x288 with 1 Axes>"
      ]
     },
     "metadata": {},
     "output_type": "display_data"
    }
   ],
   "source": [
    "RET_vw_div = pd.DataFrame(index=RB[12:],data=ret)\n",
    "RET_vw_div.columns=['ret']\n",
    "RET_vw_div.ret.add(1).cumprod()\n",
    "plt.plot(RET_vw_div.ret.add(1).cumprod())\n",
    "plt.show()"
   ]
  },
  {
   "cell_type": "markdown",
   "metadata": {},
   "source": [
    "## Annual_vw_div's Sharpe ratio table"
   ]
  },
  {
   "cell_type": "code",
   "execution_count": 26,
   "metadata": {},
   "outputs": [
    {
     "data": {
      "text/html": [
       "<div>\n",
       "<style scoped>\n",
       "    .dataframe tbody tr th:only-of-type {\n",
       "        vertical-align: middle;\n",
       "    }\n",
       "\n",
       "    .dataframe tbody tr th {\n",
       "        vertical-align: top;\n",
       "    }\n",
       "\n",
       "    .dataframe thead th {\n",
       "        text-align: right;\n",
       "    }\n",
       "</style>\n",
       "<table border=\"1\" class=\"dataframe\">\n",
       "  <thead>\n",
       "    <tr style=\"text-align: right;\">\n",
       "      <th></th>\n",
       "      <th>RP</th>\n",
       "      <th>Vol</th>\n",
       "      <th>Sharpe</th>\n",
       "    </tr>\n",
       "  </thead>\n",
       "  <tbody>\n",
       "    <tr>\n",
       "      <th>ret</th>\n",
       "      <td>0.12957</td>\n",
       "      <td>0.175734</td>\n",
       "      <td>0.737311</td>\n",
       "    </tr>\n",
       "  </tbody>\n",
       "</table>\n",
       "</div>"
      ],
      "text/plain": [
       "          RP       Vol    Sharpe\n",
       "ret  0.12957  0.175734  0.737311"
      ]
     },
     "execution_count": 26,
     "metadata": {},
     "output_type": "execute_result"
    }
   ],
   "source": [
    "rf = pd.DataFrame()\n",
    "rf['rf'] = data.rf[~data.rf.index.duplicated(keep='first')]\n",
    "RET_vw_div.sub(rf.rf, axis=0)\n",
    "RX_vw_div_MONTHLY = RET_vw_div.sub(rf.rf, axis=0)['1988':]\n",
    "RET_vw_div_table = pd.DataFrame()                        \n",
    "RET_vw_div_table['RP']     = RX_vw_div_MONTHLY.add(1).resample('A').agg('prod').sub(1).mean()\n",
    "RET_vw_div_table['Vol']    = RX_vw_div_MONTHLY.std()*12**0.5  \n",
    "RET_vw_div_table['Sharpe'] = RET_vw_div_table.RP / RET_vw_div_table.Vol\n",
    "RET_vw_div_table"
   ]
  },
  {
   "cell_type": "markdown",
   "metadata": {},
   "source": [
    "## Comparing two periods' Sharpe Ratio"
   ]
  },
  {
   "cell_type": "code",
   "execution_count": 27,
   "metadata": {},
   "outputs": [
    {
     "data": {
      "text/html": [
       "<div>\n",
       "<style scoped>\n",
       "    .dataframe tbody tr th:only-of-type {\n",
       "        vertical-align: middle;\n",
       "    }\n",
       "\n",
       "    .dataframe tbody tr th {\n",
       "        vertical-align: top;\n",
       "    }\n",
       "\n",
       "    .dataframe thead th {\n",
       "        text-align: right;\n",
       "    }\n",
       "</style>\n",
       "<table border=\"1\" class=\"dataframe\">\n",
       "  <thead>\n",
       "    <tr style=\"text-align: right;\">\n",
       "      <th></th>\n",
       "      <th>SR1</th>\n",
       "      <th>SR2</th>\n",
       "    </tr>\n",
       "  </thead>\n",
       "  <tbody>\n",
       "    <tr>\n",
       "      <th>ret</th>\n",
       "      <td>0.745165</td>\n",
       "      <td>0.647252</td>\n",
       "    </tr>\n",
       "  </tbody>\n",
       "</table>\n",
       "</div>"
      ],
      "text/plain": [
       "          SR1       SR2\n",
       "ret  0.745165  0.647252"
      ]
     },
     "execution_count": 27,
     "metadata": {},
     "output_type": "execute_result"
    }
   ],
   "source": [
    "R1 = RX_vw_div_MONTHLY['1988':'2003-06'] \n",
    "R2 = RX_vw_div_MONTHLY['2003-07':'2018'] \n",
    "Ctable_vw_div = pd.DataFrame()\n",
    "Ctable_vw_div['SR1'] = R1.add(1).resample('A').agg('prod').sub(1).mean()/(R1.std()*12**0.5)\n",
    "Ctable_vw_div['SR2'] = R2.add(1).resample('A').agg('prod').sub(1).mean()/(R2.std()*12**0.5)\n",
    "Ctable_vw_div"
   ]
  },
  {
   "cell_type": "markdown",
   "metadata": {},
   "source": [
    "## Finding alpha and beta in Monthly_vw_div"
   ]
  },
  {
   "cell_type": "code",
   "execution_count": 28,
   "metadata": {},
   "outputs": [
    {
     "data": {
      "text/html": [
       "<table class=\"simpletable\">\n",
       "<caption>OLS Regression Results</caption>\n",
       "<tr>\n",
       "  <th>Dep. Variable:</th>           <td>ret</td>       <th>  R-squared:         </th> <td>   0.359</td>\n",
       "</tr>\n",
       "<tr>\n",
       "  <th>Model:</th>                   <td>OLS</td>       <th>  Adj. R-squared:    </th> <td>   0.357</td>\n",
       "</tr>\n",
       "<tr>\n",
       "  <th>Method:</th>             <td>Least Squares</td>  <th>  F-statistic:       </th> <td>   207.4</td>\n",
       "</tr>\n",
       "<tr>\n",
       "  <th>Date:</th>             <td>Fri, 05 Apr 2019</td> <th>  Prob (F-statistic):</th> <td>1.20e-37</td>\n",
       "</tr>\n",
       "<tr>\n",
       "  <th>Time:</th>                 <td>05:02:22</td>     <th>  Log-Likelihood:    </th> <td>  664.46</td>\n",
       "</tr>\n",
       "<tr>\n",
       "  <th>No. Observations:</th>      <td>   372</td>      <th>  AIC:               </th> <td>  -1325.</td>\n",
       "</tr>\n",
       "<tr>\n",
       "  <th>Df Residuals:</th>          <td>   370</td>      <th>  BIC:               </th> <td>  -1317.</td>\n",
       "</tr>\n",
       "<tr>\n",
       "  <th>Df Model:</th>              <td>     1</td>      <th>                     </th>     <td> </td>   \n",
       "</tr>\n",
       "<tr>\n",
       "  <th>Covariance Type:</th>      <td>nonrobust</td>    <th>                     </th>     <td> </td>   \n",
       "</tr>\n",
       "</table>\n",
       "<table class=\"simpletable\">\n",
       "<tr>\n",
       "    <td></td>       <th>coef</th>     <th>std err</th>      <th>t</th>      <th>P>|t|</th>  <th>[0.025</th>    <th>0.975]</th>  \n",
       "</tr>\n",
       "<tr>\n",
       "  <th>const</th> <td>    0.0044</td> <td>    0.002</td> <td>    2.056</td> <td> 0.041</td> <td>    0.000</td> <td>    0.009</td>\n",
       "</tr>\n",
       "<tr>\n",
       "  <th>mktrf</th> <td>    0.7291</td> <td>    0.051</td> <td>   14.402</td> <td> 0.000</td> <td>    0.630</td> <td>    0.829</td>\n",
       "</tr>\n",
       "</table>\n",
       "<table class=\"simpletable\">\n",
       "<tr>\n",
       "  <th>Omnibus:</th>       <td>98.650</td> <th>  Durbin-Watson:     </th> <td>   1.743</td>\n",
       "</tr>\n",
       "<tr>\n",
       "  <th>Prob(Omnibus):</th> <td> 0.000</td> <th>  Jarque-Bera (JB):  </th> <td> 381.271</td>\n",
       "</tr>\n",
       "<tr>\n",
       "  <th>Skew:</th>          <td> 1.113</td> <th>  Prob(JB):          </th> <td>1.61e-83</td>\n",
       "</tr>\n",
       "<tr>\n",
       "  <th>Kurtosis:</th>      <td> 7.432</td> <th>  Cond. No.          </th> <td>    24.0</td>\n",
       "</tr>\n",
       "</table><br/><br/>Warnings:<br/>[1] Standard Errors assume that the covariance matrix of the errors is correctly specified."
      ],
      "text/plain": [
       "<class 'statsmodels.iolib.summary.Summary'>\n",
       "\"\"\"\n",
       "                            OLS Regression Results                            \n",
       "==============================================================================\n",
       "Dep. Variable:                    ret   R-squared:                       0.359\n",
       "Model:                            OLS   Adj. R-squared:                  0.357\n",
       "Method:                 Least Squares   F-statistic:                     207.4\n",
       "Date:                Fri, 05 Apr 2019   Prob (F-statistic):           1.20e-37\n",
       "Time:                        05:02:22   Log-Likelihood:                 664.46\n",
       "No. Observations:                 372   AIC:                            -1325.\n",
       "Df Residuals:                     370   BIC:                            -1317.\n",
       "Df Model:                           1                                         \n",
       "Covariance Type:            nonrobust                                         \n",
       "==============================================================================\n",
       "                 coef    std err          t      P>|t|      [0.025      0.975]\n",
       "------------------------------------------------------------------------------\n",
       "const          0.0044      0.002      2.056      0.041       0.000       0.009\n",
       "mktrf          0.7291      0.051     14.402      0.000       0.630       0.829\n",
       "==============================================================================\n",
       "Omnibus:                       98.650   Durbin-Watson:                   1.743\n",
       "Prob(Omnibus):                  0.000   Jarque-Bera (JB):              381.271\n",
       "Skew:                           1.113   Prob(JB):                     1.61e-83\n",
       "Kurtosis:                       7.432   Cond. No.                         24.0\n",
       "==============================================================================\n",
       "\n",
       "Warnings:\n",
       "[1] Standard Errors assume that the covariance matrix of the errors is correctly specified.\n",
       "\"\"\""
      ]
     },
     "execution_count": 28,
     "metadata": {},
     "output_type": "execute_result"
    }
   ],
   "source": [
    "start = '1988'\n",
    "end   = '2018'\n",
    "\n",
    "y = RX_vw_div_MONTHLY[start:end]\n",
    "x = pd.DataFrame(index=RB[12:],data=mktrf)\n",
    "x.columns = ['mktrf']\n",
    "x1 = x[start:end]\n",
    "\n",
    "sm.OLS(y, sm.add_constant(x1),  missing='drop').fit().summary() "
   ]
  },
  {
   "cell_type": "markdown",
   "metadata": {},
   "source": [
    "## Value weight split stock investment"
   ]
  },
  {
   "cell_type": "code",
   "execution_count": 29,
   "metadata": {},
   "outputs": [],
   "source": [
    "value = 1\n",
    "ret = []\n",
    "mktrf = []\n",
    "for i in range(0,len(RB)-12):\n",
    "    rb      = RB[i:i+12]    \n",
    "    rb_next = RB[i+1:i+13]  \n",
    "    \n",
    "    assets = select_split_stocks(data,rb)\n",
    "    t = data[(data.stock_id.isin(assets)) & (data.price.notna())].loc[rb_next[-1]]\n",
    "    m = data[(data.stock_id.isin(assets)) & (data.price.notna())].loc[rb[-1]]\n",
    "    current_positions = t.price\n",
    "    weights = calc_vweights(assets)\n",
    "    k = t.set_index('stock_id')\n",
    "    temp = pd.concat([k,weights],axis=1,join='inner')\n",
    "    current_ret = sum(list(temp.return_incl_divs.fillna(0))*(temp.iloc[:,13]))\n",
    "    ret.append(current_ret)\n",
    "    mktrf.append(list(t.mktrf.unique()))\n",
    "    value = value*(1 + current_ret)    "
   ]
  },
  {
   "cell_type": "code",
   "execution_count": 30,
   "metadata": {},
   "outputs": [
    {
     "data": {
      "text/plain": [
       "19.369640668993846"
      ]
     },
     "execution_count": 30,
     "metadata": {},
     "output_type": "execute_result"
    }
   ],
   "source": [
    "value"
   ]
  },
  {
   "cell_type": "code",
   "execution_count": 31,
   "metadata": {},
   "outputs": [
    {
     "data": {
      "image/png": "[encoded data removed]",
      "text/plain": [
       "<Figure size 432x288 with 1 Axes>"
      ]
     },
     "metadata": {},
     "output_type": "display_data"
    }
   ],
   "source": [
    "RET_vw_split = pd.DataFrame(index=RB[12:],data=ret)\n",
    "RET_vw_split.columns=['ret']\n",
    "RET_vw_split.ret.add(1).cumprod()\n",
    "plt.plot(RET_vw_split.ret.add(1).cumprod())\n",
    "plt.show()"
   ]
  },
  {
   "cell_type": "markdown",
   "metadata": {},
   "source": [
    "## Annual_vw_split's Sharpe ratio table"
   ]
  },
  {
   "cell_type": "code",
   "execution_count": 32,
   "metadata": {},
   "outputs": [
    {
     "data": {
      "text/html": [
       "<div>\n",
       "<style scoped>\n",
       "    .dataframe tbody tr th:only-of-type {\n",
       "        vertical-align: middle;\n",
       "    }\n",
       "\n",
       "    .dataframe tbody tr th {\n",
       "        vertical-align: top;\n",
       "    }\n",
       "\n",
       "    .dataframe thead th {\n",
       "        text-align: right;\n",
       "    }\n",
       "</style>\n",
       "<table border=\"1\" class=\"dataframe\">\n",
       "  <thead>\n",
       "    <tr style=\"text-align: right;\">\n",
       "      <th></th>\n",
       "      <th>RP</th>\n",
       "      <th>Vol</th>\n",
       "      <th>Sharpe</th>\n",
       "    </tr>\n",
       "  </thead>\n",
       "  <tbody>\n",
       "    <tr>\n",
       "      <th>ret</th>\n",
       "      <td>0.093183</td>\n",
       "      <td>0.222186</td>\n",
       "      <td>0.419392</td>\n",
       "    </tr>\n",
       "  </tbody>\n",
       "</table>\n",
       "</div>"
      ],
      "text/plain": [
       "           RP       Vol    Sharpe\n",
       "ret  0.093183  0.222186  0.419392"
      ]
     },
     "execution_count": 32,
     "metadata": {},
     "output_type": "execute_result"
    }
   ],
   "source": [
    "rf = pd.DataFrame()\n",
    "rf['rf'] = data.rf[~data.rf.index.duplicated(keep='first')]\n",
    "RET_vw_split.sub(rf.rf, axis=0)\n",
    "RX_vw_split_MONTHLY = RET_vw_split.sub(rf.rf, axis=0)['1988':]\n",
    "RET_vw_split_table = pd.DataFrame()                        \n",
    "RET_vw_split_table['RP']     = RX_vw_split_MONTHLY.add(1).resample('A').agg('prod').sub(1).mean()\n",
    "RET_vw_split_table['Vol']    = RX_vw_split_MONTHLY.std()*12**0.5    \n",
    "RET_vw_split_table['Sharpe'] = RET_vw_split_table.RP / RET_vw_split_table.Vol\n",
    "RET_vw_split_table"
   ]
  },
  {
   "cell_type": "markdown",
   "metadata": {},
   "source": [
    "## Comparing two periods' Sharpe Ratio"
   ]
  },
  {
   "cell_type": "code",
   "execution_count": 33,
   "metadata": {},
   "outputs": [
    {
     "data": {
      "text/html": [
       "<div>\n",
       "<style scoped>\n",
       "    .dataframe tbody tr th:only-of-type {\n",
       "        vertical-align: middle;\n",
       "    }\n",
       "\n",
       "    .dataframe tbody tr th {\n",
       "        vertical-align: top;\n",
       "    }\n",
       "\n",
       "    .dataframe thead th {\n",
       "        text-align: right;\n",
       "    }\n",
       "</style>\n",
       "<table border=\"1\" class=\"dataframe\">\n",
       "  <thead>\n",
       "    <tr style=\"text-align: right;\">\n",
       "      <th></th>\n",
       "      <th>SR1</th>\n",
       "      <th>SR2</th>\n",
       "    </tr>\n",
       "  </thead>\n",
       "  <tbody>\n",
       "    <tr>\n",
       "      <th>ret</th>\n",
       "      <td>0.315</td>\n",
       "      <td>0.505459</td>\n",
       "    </tr>\n",
       "  </tbody>\n",
       "</table>\n",
       "</div>"
      ],
      "text/plain": [
       "       SR1       SR2\n",
       "ret  0.315  0.505459"
      ]
     },
     "execution_count": 33,
     "metadata": {},
     "output_type": "execute_result"
    }
   ],
   "source": [
    "R1 = RX_vw_split_MONTHLY['1988':'2003-06']\n",
    "R2 = RX_vw_split_MONTHLY['2003-07':'2018']\n",
    "Ctable_vw_split = pd.DataFrame()\n",
    "Ctable_vw_split['SR1'] = R1.add(1).resample('A').agg('prod').sub(1).mean()/(R1.std()*12**0.5)\n",
    "Ctable_vw_split['SR2'] = R2.add(1).resample('A').agg('prod').sub(1).mean()/(R2.std()*12**0.5)\n",
    "Ctable_vw_split"
   ]
  },
  {
   "cell_type": "markdown",
   "metadata": {},
   "source": [
    "## Finding alpha and beta in Monthly_vw_split"
   ]
  },
  {
   "cell_type": "code",
   "execution_count": 34,
   "metadata": {},
   "outputs": [
    {
     "data": {
      "text/html": [
       "<table class=\"simpletable\">\n",
       "<caption>OLS Regression Results</caption>\n",
       "<tr>\n",
       "  <th>Dep. Variable:</th>           <td>ret</td>       <th>  R-squared:         </th> <td>   0.594</td>\n",
       "</tr>\n",
       "<tr>\n",
       "  <th>Model:</th>                   <td>OLS</td>       <th>  Adj. R-squared:    </th> <td>   0.593</td>\n",
       "</tr>\n",
       "<tr>\n",
       "  <th>Method:</th>             <td>Least Squares</td>  <th>  F-statistic:       </th> <td>   541.7</td>\n",
       "</tr>\n",
       "<tr>\n",
       "  <th>Date:</th>             <td>Fri, 05 Apr 2019</td> <th>  Prob (F-statistic):</th> <td>1.88e-74</td>\n",
       "</tr>\n",
       "<tr>\n",
       "  <th>Time:</th>                 <td>05:07:49</td>     <th>  Log-Likelihood:    </th> <td>  662.16</td>\n",
       "</tr>\n",
       "<tr>\n",
       "  <th>No. Observations:</th>      <td>   372</td>      <th>  AIC:               </th> <td>  -1320.</td>\n",
       "</tr>\n",
       "<tr>\n",
       "  <th>Df Residuals:</th>          <td>   370</td>      <th>  BIC:               </th> <td>  -1312.</td>\n",
       "</tr>\n",
       "<tr>\n",
       "  <th>Df Model:</th>              <td>     1</td>      <th>                     </th>     <td> </td>   \n",
       "</tr>\n",
       "<tr>\n",
       "  <th>Covariance Type:</th>      <td>nonrobust</td>    <th>                     </th>     <td> </td>   \n",
       "</tr>\n",
       "</table>\n",
       "<table class=\"simpletable\">\n",
       "<tr>\n",
       "    <td></td>       <th>coef</th>     <th>std err</th>      <th>t</th>      <th>P>|t|</th>  <th>[0.025</th>    <th>0.975]</th>  \n",
       "</tr>\n",
       "<tr>\n",
       "  <th>const</th> <td>   -0.0002</td> <td>    0.002</td> <td>   -0.099</td> <td> 0.921</td> <td>   -0.004</td> <td>    0.004</td>\n",
       "</tr>\n",
       "<tr>\n",
       "  <th>mktrf</th> <td>    1.1856</td> <td>    0.051</td> <td>   23.274</td> <td> 0.000</td> <td>    1.085</td> <td>    1.286</td>\n",
       "</tr>\n",
       "</table>\n",
       "<table class=\"simpletable\">\n",
       "<tr>\n",
       "  <th>Omnibus:</th>       <td>37.637</td> <th>  Durbin-Watson:     </th> <td>   2.058</td>\n",
       "</tr>\n",
       "<tr>\n",
       "  <th>Prob(Omnibus):</th> <td> 0.000</td> <th>  Jarque-Bera (JB):  </th> <td> 126.625</td>\n",
       "</tr>\n",
       "<tr>\n",
       "  <th>Skew:</th>          <td> 0.381</td> <th>  Prob(JB):          </th> <td>3.19e-28</td>\n",
       "</tr>\n",
       "<tr>\n",
       "  <th>Kurtosis:</th>      <td> 5.755</td> <th>  Cond. No.          </th> <td>    24.0</td>\n",
       "</tr>\n",
       "</table><br/><br/>Warnings:<br/>[1] Standard Errors assume that the covariance matrix of the errors is correctly specified."
      ],
      "text/plain": [
       "<class 'statsmodels.iolib.summary.Summary'>\n",
       "\"\"\"\n",
       "                            OLS Regression Results                            \n",
       "==============================================================================\n",
       "Dep. Variable:                    ret   R-squared:                       0.594\n",
       "Model:                            OLS   Adj. R-squared:                  0.593\n",
       "Method:                 Least Squares   F-statistic:                     541.7\n",
       "Date:                Fri, 05 Apr 2019   Prob (F-statistic):           1.88e-74\n",
       "Time:                        05:07:49   Log-Likelihood:                 662.16\n",
       "No. Observations:                 372   AIC:                            -1320.\n",
       "Df Residuals:                     370   BIC:                            -1312.\n",
       "Df Model:                           1                                         \n",
       "Covariance Type:            nonrobust                                         \n",
       "==============================================================================\n",
       "                 coef    std err          t      P>|t|      [0.025      0.975]\n",
       "------------------------------------------------------------------------------\n",
       "const         -0.0002      0.002     -0.099      0.921      -0.004       0.004\n",
       "mktrf          1.1856      0.051     23.274      0.000       1.085       1.286\n",
       "==============================================================================\n",
       "Omnibus:                       37.637   Durbin-Watson:                   2.058\n",
       "Prob(Omnibus):                  0.000   Jarque-Bera (JB):              126.625\n",
       "Skew:                           0.381   Prob(JB):                     3.19e-28\n",
       "Kurtosis:                       5.755   Cond. No.                         24.0\n",
       "==============================================================================\n",
       "\n",
       "Warnings:\n",
       "[1] Standard Errors assume that the covariance matrix of the errors is correctly specified.\n",
       "\"\"\""
      ]
     },
     "execution_count": 34,
     "metadata": {},
     "output_type": "execute_result"
    }
   ],
   "source": [
    "start = '1988'\n",
    "end   = '2018'\n",
    "\n",
    "y = RX_vw_split_MONTHLY[start:end]\n",
    "x = pd.DataFrame(index=RB[12:],data=mktrf)\n",
    "x.columns = ['mktrf']\n",
    "x1 = x[start:end]\n",
    "\n",
    "sm.OLS(y, sm.add_constant(x1),  missing='drop').fit().summary() "
   ]
  },
  {
   "cell_type": "markdown",
   "metadata": {},
   "source": [
    "## Dividend and Split all together with value weight"
   ]
  },
  {
   "cell_type": "markdown",
   "metadata": {},
   "source": [
    "### functions"
   ]
  },
  {
   "cell_type": "code",
   "execution_count": 35,
   "metadata": {},
   "outputs": [],
   "source": [
    "def select_assets(data,rb):\n",
    "    data = data.loc[rb]\n",
    "    div_or_split_stock = data[(data.div_init_dummy > 0) | (data.split_dummy > 0)].stock_id\n",
    "    if len(div_or_split_stock) == 0:\n",
    "        div_or_split_stock = data.stock_id\n",
    "    return(list(div_or_split_stock))"
   ]
  },
  {
   "cell_type": "markdown",
   "metadata": {},
   "source": [
    "### Test of first month_ew_div_or_split(1988-01-29)"
   ]
  },
  {
   "cell_type": "code",
   "execution_count": 36,
   "metadata": {},
   "outputs": [
    {
     "data": {
      "text/plain": [
       "0.051110724222698106"
      ]
     },
     "execution_count": 36,
     "metadata": {},
     "output_type": "execute_result"
    }
   ],
   "source": [
    "i=0\n",
    "rb      = RB[i:i+12]    \n",
    "rb_next = RB[i+1:i+13]  \n",
    "    \n",
    "assets = select_assets(data,rb)\n",
    "t = data[(data.stock_id.isin(assets)) & (data.price.notna())].loc[rb_next[-1]]\n",
    "n = len(data[(data.stock_id.isin(assets)) & (data.price.notna())].loc[rb[-1]])\n",
    "current_positions = t.price\n",
    "weights = calc_weights(assets)\n",
    "current_ret = sum(list(t.return_incl_divs.fillna(0))*weights[0:len(t.return_incl_divs.fillna(0))])\n",
    "current_ret"
   ]
  },
  {
   "cell_type": "markdown",
   "metadata": {},
   "source": [
    "## Div_or_Split equal weight investment"
   ]
  },
  {
   "cell_type": "code",
   "execution_count": 37,
   "metadata": {},
   "outputs": [],
   "source": [
    "value = 1\n",
    "ret = []\n",
    "mktrf = []\n",
    "for i in range(0,len(RB)-12):\n",
    "    rb      = RB[i:i+12]    \n",
    "    rb_next = RB[i+1:i+13]  \n",
    "    \n",
    "    assets = select_assets(data,rb)\n",
    "    t = data[(data.stock_id.isin(assets)) & (data.price.notna())].loc[rb_next[-1]]\n",
    "    n = len(data[(data.stock_id.isin(assets)) & (data.price.notna())].loc[rb[-1]])\n",
    "    current_positions = t.price\n",
    "    weights = calc_weights(assets)\n",
    "    current_ret = sum(list(t.return_incl_divs.fillna(0))*weights[0:len(t.return_incl_divs.fillna(0))])\n",
    "    ret.append(current_ret)\n",
    "    mktrf.append(list(t.mktrf.unique()))\n",
    "    value = value*(1 + current_ret)"
   ]
  },
  {
   "cell_type": "code",
   "execution_count": 38,
   "metadata": {},
   "outputs": [
    {
     "data": {
      "text/plain": [
       "48.023937870954924"
      ]
     },
     "execution_count": 38,
     "metadata": {},
     "output_type": "execute_result"
    }
   ],
   "source": [
    "value"
   ]
  },
  {
   "cell_type": "code",
   "execution_count": 39,
   "metadata": {},
   "outputs": [
    {
     "data": {
      "image/png": "[encoded data removed]",
      "text/plain": [
       "<Figure size 432x288 with 1 Axes>"
      ]
     },
     "metadata": {},
     "output_type": "display_data"
    }
   ],
   "source": [
    "RET_ew_ds = pd.DataFrame(index=RB[12:],data=ret)\n",
    "RET_ew_ds.columns=['ret']\n",
    "RET_ew_ds.ret.add(1).cumprod()\n",
    "plt.plot(RET_ew_ds.ret.add(1).cumprod())\n",
    "plt.show()"
   ]
  },
  {
   "cell_type": "markdown",
   "metadata": {},
   "source": [
    "## Annual_ew_div_or_split's Sharpe ratio table"
   ]
  },
  {
   "cell_type": "code",
   "execution_count": 40,
   "metadata": {},
   "outputs": [
    {
     "data": {
      "text/html": [
       "<div>\n",
       "<style scoped>\n",
       "    .dataframe tbody tr th:only-of-type {\n",
       "        vertical-align: middle;\n",
       "    }\n",
       "\n",
       "    .dataframe tbody tr th {\n",
       "        vertical-align: top;\n",
       "    }\n",
       "\n",
       "    .dataframe thead th {\n",
       "        text-align: right;\n",
       "    }\n",
       "</style>\n",
       "<table border=\"1\" class=\"dataframe\">\n",
       "  <thead>\n",
       "    <tr style=\"text-align: right;\">\n",
       "      <th></th>\n",
       "      <th>RP</th>\n",
       "      <th>Vol</th>\n",
       "      <th>Sharpe</th>\n",
       "    </tr>\n",
       "  </thead>\n",
       "  <tbody>\n",
       "    <tr>\n",
       "      <th>ret</th>\n",
       "      <td>0.124861</td>\n",
       "      <td>0.169403</td>\n",
       "      <td>0.737066</td>\n",
       "    </tr>\n",
       "  </tbody>\n",
       "</table>\n",
       "</div>"
      ],
      "text/plain": [
       "           RP       Vol    Sharpe\n",
       "ret  0.124861  0.169403  0.737066"
      ]
     },
     "execution_count": 40,
     "metadata": {},
     "output_type": "execute_result"
    }
   ],
   "source": [
    "rf = pd.DataFrame()\n",
    "rf['rf'] = data.rf[~data.rf.index.duplicated(keep='first')]\n",
    "RET_ew_ds.sub(rf.rf, axis=0)\n",
    "RX_ew_ds_MONTHLY = RET_ew_ds.sub(rf.rf, axis=0)['1988':]\n",
    "RET_ew_ds_table = pd.DataFrame()                        \n",
    "RET_ew_ds_table['RP']     = RX_ew_ds_MONTHLY.add(1).resample('A').agg('prod').sub(1).mean()\n",
    "RET_ew_ds_table['Vol']    = RX_ew_ds_MONTHLY.std()*12**0.5    \n",
    "RET_ew_ds_table['Sharpe'] = RET_ew_ds_table.RP / RET_ew_ds_table.Vol\n",
    "RET_ew_ds_table"
   ]
  },
  {
   "cell_type": "markdown",
   "metadata": {},
   "source": [
    "## Comparing two periods' Sharpe Ratio"
   ]
  },
  {
   "cell_type": "code",
   "execution_count": 41,
   "metadata": {},
   "outputs": [
    {
     "data": {
      "text/html": [
       "<div>\n",
       "<style scoped>\n",
       "    .dataframe tbody tr th:only-of-type {\n",
       "        vertical-align: middle;\n",
       "    }\n",
       "\n",
       "    .dataframe tbody tr th {\n",
       "        vertical-align: top;\n",
       "    }\n",
       "\n",
       "    .dataframe thead th {\n",
       "        text-align: right;\n",
       "    }\n",
       "</style>\n",
       "<table border=\"1\" class=\"dataframe\">\n",
       "  <thead>\n",
       "    <tr style=\"text-align: right;\">\n",
       "      <th></th>\n",
       "      <th>SR1</th>\n",
       "      <th>SR2</th>\n",
       "    </tr>\n",
       "  </thead>\n",
       "  <tbody>\n",
       "    <tr>\n",
       "      <th>ret</th>\n",
       "      <td>0.574515</td>\n",
       "      <td>0.847382</td>\n",
       "    </tr>\n",
       "  </tbody>\n",
       "</table>\n",
       "</div>"
      ],
      "text/plain": [
       "          SR1       SR2\n",
       "ret  0.574515  0.847382"
      ]
     },
     "execution_count": 41,
     "metadata": {},
     "output_type": "execute_result"
    }
   ],
   "source": [
    "R1 = RX_ew_ds_MONTHLY['1988':'2003-06']\n",
    "R2 = RX_ew_ds_MONTHLY['2003-07':'2018']\n",
    "Ctable_ew_ds = pd.DataFrame()\n",
    "Ctable_ew_ds['SR1'] = R1.add(1).resample('A').agg('prod').sub(1).mean()/(R1.std()*12**0.5)\n",
    "Ctable_ew_ds['SR2'] = R2.add(1).resample('A').agg('prod').sub(1).mean()/(R2.std()*12**0.5)\n",
    "Ctable_ew_ds"
   ]
  },
  {
   "cell_type": "markdown",
   "metadata": {},
   "source": [
    "## Finding alpha and beta in Monthly_ew_div_or_split"
   ]
  },
  {
   "cell_type": "code",
   "execution_count": 42,
   "metadata": {},
   "outputs": [
    {
     "data": {
      "text/html": [
       "<table class=\"simpletable\">\n",
       "<caption>OLS Regression Results</caption>\n",
       "<tr>\n",
       "  <th>Dep. Variable:</th>           <td>ret</td>       <th>  R-squared:         </th> <td>   0.786</td> \n",
       "</tr>\n",
       "<tr>\n",
       "  <th>Model:</th>                   <td>OLS</td>       <th>  Adj. R-squared:    </th> <td>   0.785</td> \n",
       "</tr>\n",
       "<tr>\n",
       "  <th>Method:</th>             <td>Least Squares</td>  <th>  F-statistic:       </th> <td>   1360.</td> \n",
       "</tr>\n",
       "<tr>\n",
       "  <th>Date:</th>             <td>Fri, 05 Apr 2019</td> <th>  Prob (F-statistic):</th> <td>5.85e-126</td>\n",
       "</tr>\n",
       "<tr>\n",
       "  <th>Time:</th>                 <td>05:13:18</td>     <th>  Log-Likelihood:    </th> <td>  882.16</td> \n",
       "</tr>\n",
       "<tr>\n",
       "  <th>No. Observations:</th>      <td>   372</td>      <th>  AIC:               </th> <td>  -1760.</td> \n",
       "</tr>\n",
       "<tr>\n",
       "  <th>Df Residuals:</th>          <td>   370</td>      <th>  BIC:               </th> <td>  -1752.</td> \n",
       "</tr>\n",
       "<tr>\n",
       "  <th>Df Model:</th>              <td>     1</td>      <th>                     </th>     <td> </td>    \n",
       "</tr>\n",
       "<tr>\n",
       "  <th>Covariance Type:</th>      <td>nonrobust</td>    <th>                     </th>     <td> </td>    \n",
       "</tr>\n",
       "</table>\n",
       "<table class=\"simpletable\">\n",
       "<tr>\n",
       "    <td></td>       <th>coef</th>     <th>std err</th>      <th>t</th>      <th>P>|t|</th>  <th>[0.025</th>    <th>0.975]</th>  \n",
       "</tr>\n",
       "<tr>\n",
       "  <th>const</th> <td>    0.0023</td> <td>    0.001</td> <td>    1.976</td> <td> 0.049</td> <td> 1.14e-05</td> <td>    0.005</td>\n",
       "</tr>\n",
       "<tr>\n",
       "  <th>mktrf</th> <td>    1.0397</td> <td>    0.028</td> <td>   36.873</td> <td> 0.000</td> <td>    0.984</td> <td>    1.095</td>\n",
       "</tr>\n",
       "</table>\n",
       "<table class=\"simpletable\">\n",
       "<tr>\n",
       "  <th>Omnibus:</th>       <td>63.347</td> <th>  Durbin-Watson:     </th> <td>   1.972</td>\n",
       "</tr>\n",
       "<tr>\n",
       "  <th>Prob(Omnibus):</th> <td> 0.000</td> <th>  Jarque-Bera (JB):  </th> <td> 208.854</td>\n",
       "</tr>\n",
       "<tr>\n",
       "  <th>Skew:</th>          <td> 0.736</td> <th>  Prob(JB):          </th> <td>4.45e-46</td>\n",
       "</tr>\n",
       "<tr>\n",
       "  <th>Kurtosis:</th>      <td> 6.362</td> <th>  Cond. No.          </th> <td>    24.0</td>\n",
       "</tr>\n",
       "</table><br/><br/>Warnings:<br/>[1] Standard Errors assume that the covariance matrix of the errors is correctly specified."
      ],
      "text/plain": [
       "<class 'statsmodels.iolib.summary.Summary'>\n",
       "\"\"\"\n",
       "                            OLS Regression Results                            \n",
       "==============================================================================\n",
       "Dep. Variable:                    ret   R-squared:                       0.786\n",
       "Model:                            OLS   Adj. R-squared:                  0.785\n",
       "Method:                 Least Squares   F-statistic:                     1360.\n",
       "Date:                Fri, 05 Apr 2019   Prob (F-statistic):          5.85e-126\n",
       "Time:                        05:13:18   Log-Likelihood:                 882.16\n",
       "No. Observations:                 372   AIC:                            -1760.\n",
       "Df Residuals:                     370   BIC:                            -1752.\n",
       "Df Model:                           1                                         \n",
       "Covariance Type:            nonrobust                                         \n",
       "==============================================================================\n",
       "                 coef    std err          t      P>|t|      [0.025      0.975]\n",
       "------------------------------------------------------------------------------\n",
       "const          0.0023      0.001      1.976      0.049    1.14e-05       0.005\n",
       "mktrf          1.0397      0.028     36.873      0.000       0.984       1.095\n",
       "==============================================================================\n",
       "Omnibus:                       63.347   Durbin-Watson:                   1.972\n",
       "Prob(Omnibus):                  0.000   Jarque-Bera (JB):              208.854\n",
       "Skew:                           0.736   Prob(JB):                     4.45e-46\n",
       "Kurtosis:                       6.362   Cond. No.                         24.0\n",
       "==============================================================================\n",
       "\n",
       "Warnings:\n",
       "[1] Standard Errors assume that the covariance matrix of the errors is correctly specified.\n",
       "\"\"\""
      ]
     },
     "execution_count": 42,
     "metadata": {},
     "output_type": "execute_result"
    }
   ],
   "source": [
    "start = '1988'\n",
    "end   = '2018'\n",
    "\n",
    "y = RX_ew_ds_MONTHLY[start:end]\n",
    "x = pd.DataFrame(index=RB[12:],data=mktrf)\n",
    "x.columns = ['mktrf']\n",
    "x1 = x[start:end]\n",
    "\n",
    "sm.OLS(y, sm.add_constant(x1),  missing='drop').fit().summary() "
   ]
  },
  {
   "cell_type": "markdown",
   "metadata": {},
   "source": [
    "## Div_or_Split value weight investment"
   ]
  },
  {
   "cell_type": "code",
   "execution_count": null,
   "metadata": {},
   "outputs": [],
   "source": [
    "value = 1\n",
    "ret = []\n",
    "mktrf = []\n",
    "for i in range(0,len(RB)-12):\n",
    "    rb      = RB[i:i+12]    \n",
    "    rb_next = RB[i+1:i+13]  \n",
    "    \n",
    "    assets = select_assets(data,rb)\n",
    "    t = data[(data.stock_id.isin(assets)) & (data.price.notna())].loc[rb_next[-1]]\n",
    "    m = data[(data.stock_id.isin(assets)) & (data.price.notna())].loc[rb[-1]]\n",
    "    current_positions = t.price\n",
    "    weights = calc_vweights(assets)\n",
    "    w = pd.DataFrame(index=weights.index, data=weights)\n",
    "    k = t.set_index('stock_id')\n",
    "    temp = pd.merge( k, w, left_index=True, right_index=True)\n",
    "    current_ret = sum(list(temp.return_incl_divs.fillna(0))*(temp.iloc[:,13]))\n",
    "    ret.append(current_ret)\n",
    "    mktrf.append(list(t.mktrf.unique()))\n",
    "    value = value*(1 + current_ret)    "
   ]
  },
  {
   "cell_type": "code",
   "execution_count": null,
   "metadata": {},
   "outputs": [],
   "source": [
    "value"
   ]
  },
  {
   "cell_type": "code",
   "execution_count": null,
   "metadata": {},
   "outputs": [],
   "source": [
    "RET_vw_ds = pd.DataFrame(index=RB[12:],data=ret)\n",
    "RET_vw_ds.columns=['ret']\n",
    "RET_vw_ds.ret.add(1).cumprod()\n",
    "plt.plot(RET_vw_ds.ret.add(1).cumprod())\n",
    "plt.show()"
   ]
  },
  {
   "cell_type": "markdown",
   "metadata": {},
   "source": [
    "## Annual_vw_div_or_split's Sharpe ratio table"
   ]
  },
  {
   "cell_type": "code",
   "execution_count": null,
   "metadata": {},
   "outputs": [],
   "source": [
    "rf = pd.DataFrame()\n",
    "rf['rf'] = data.rf[~data.rf.index.duplicated(keep='first')]\n",
    "RET_vw_ds.sub(rf.rf, axis=0)\n",
    "RX_vw_ds_MONTHLY = RET_vw_ds.sub(rf.rf, axis=0)['1988':]\n",
    "RET_vw_ds_table = pd.DataFrame()                        \n",
    "RET_vw_ds_table['RP']     = RX_vw_ds_MONTHLY.add(1).resample('A').agg('prod').sub(1).mean()\n",
    "RET_vw_ds_table['Vol']    = RX_vw_ds_MONTHLY.std()*12**0.5       \n",
    "RET_vw_ds_table['Sharpe'] = RET_vw_ds_table.RP / RET_vw_ds_table.Vol\n",
    "RET_vw_ds_table"
   ]
  },
  {
   "cell_type": "markdown",
   "metadata": {},
   "source": [
    "## Comparing two periods' Sharpe Ratio"
   ]
  },
  {
   "cell_type": "code",
   "execution_count": null,
   "metadata": {},
   "outputs": [],
   "source": [
    "R1 = RX_vw_ds_MONTHLY['1988':'2003-06']\n",
    "R2 = RX_vw_ds_MONTHLY['2003-07':'2018']\n",
    "Ctable_vw_ds = pd.DataFrame()\n",
    "Ctable_vw_ds['SR1'] = R1.add(1).resample('A').agg('prod').sub(1).mean()/(R1.std()*12**0.5)\n",
    "Ctable_vw_ds['SR2'] = R2.add(1).resample('A').agg('prod').sub(1).mean()/(R2.std()*12**0.5)\n",
    "Ctable_vw_ds"
   ]
  },
  {
   "cell_type": "markdown",
   "metadata": {},
   "source": [
    "## Finding alpha and beta in Monthly_vw_div_or_split"
   ]
  },
  {
   "cell_type": "code",
   "execution_count": null,
   "metadata": {},
   "outputs": [],
   "source": [
    "start = '1988'\n",
    "end   = '2018'\n",
    "\n",
    "y = RX_vw_ds_MONTHLY[start:end]\n",
    "x = pd.DataFrame(index=RB[12:],data=mktrf)\n",
    "x.columns = ['mktrf']\n",
    "x1 = x[start:end]\n",
    "\n",
    "sm.OLS(y, sm.add_constant(x1),  missing='drop').fit().summary() "
   ]
  },
  {
   "cell_type": "markdown",
   "metadata": {},
   "source": [
    "## Aggregated cumulative return plot"
   ]
  },
  {
   "cell_type": "code",
   "execution_count": null,
   "metadata": {},
   "outputs": [],
   "source": [
    "all_ret = pd.DataFrame(index = RB[12:], data={'ew_div':RET_ew_div.ret, 'ew_split':RET_ew_split.ret,\n",
    "                                              'vw_div':RET_vw_div.ret, 'vw_split':RET_vw_split.ret,\n",
    "                                              'ew_ds':RET_ew_ds.ret, 'vw_ds':RET_vw_ds.ret})\n",
    "all_ret.add(1).cumprod().plot()"
   ]
  },
  {
   "cell_type": "markdown",
   "metadata": {},
   "source": [
    "## Aggregated SR table"
   ]
  },
  {
   "cell_type": "code",
   "execution_count": null,
   "metadata": {},
   "outputs": [],
   "source": [
    "Sharpe_ratios = {'First_half':[Ctable_ew_div['SR1'].values,Ctable_ew_split['SR1'].values,\n",
    "                               Ctable_vw_div['SR1'].values,Ctable_vw_split['SR1'].values,\n",
    "                               Ctable_ew_ds['SR1'].values,Ctable_vw_ds['SR1'].values],\n",
    "                 'Second_half':[Ctable_ew_div['SR2'].values,Ctable_ew_split['SR2'].values,\n",
    "                                Ctable_vw_div['SR2'].values,Ctable_vw_split['SR2'].values,\n",
    "                                Ctable_ew_ds['SR2'].values,Ctable_vw_ds['SR2'].values],\n",
    "                 'Whole_period':[RET_ew_div_table['Sharpe'].values,RET_ew_split_table['Sharpe'].values,\n",
    "                                RET_vw_div_table['Sharpe'].values,RET_vw_split_table['Sharpe'].values,\n",
    "                                RET_ew_ds_table['Sharpe'].values,RET_vw_ds_table['Sharpe'].values]}\n",
    "SR = pd.DataFrame(Sharpe_ratios, columns=['First_half','Second_half','Whole_period'])\n",
    "SR.rename(index={0:'ew_div',1:'ew_split',2:'vw_div',3:'vw_split',4:'ew_ds',5:'vw_ds'}, inplace=True)\n",
    "SR"
   ]
  },
  {
   "cell_type": "code",
   "execution_count": null,
   "metadata": {},
   "outputs": [],
   "source": []
  },
  {
   "cell_type": "code",
   "execution_count": null,
   "metadata": {},
   "outputs": [],
   "source": []
  },
  {
   "cell_type": "code",
   "execution_count": null,
   "metadata": {},
   "outputs": [],
   "source": []
  }
 ],
 "metadata": {
  "kernelspec": {
   "display_name": "Python 3",
   "language": "python",
   "name": "python3"
  },
  "language_info": {
   "codemirror_mode": {
    "name": "ipython",
    "version": 3
   },
   "file_extension": ".py",
   "mimetype": "text/x-python",
   "name": "python",
   "nbconvert_exporter": "python",
   "pygments_lexer": "ipython3",
   "version": "3.6.5"
  }
 },
 "nbformat": 4,
 "nbformat_minor": 2
}
